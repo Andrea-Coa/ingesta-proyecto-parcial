{
	"metadata": {
		"kernelspec": {
			"name": "glue_pyspark",
			"display_name": "Glue PySpark",
			"language": "python"
		},
		"language_info": {
			"name": "Python_Glue_Session",
			"mimetype": "text/x-python",
			"codemirror_mode": {
				"name": "python",
				"version": 3
			},
			"pygments_lexer": "python3",
			"file_extension": ".py"
		}
	},
	"nbformat_minor": 4,
	"nbformat": 4,
	"cells": [
		{
			"cell_type": "markdown",
			"source": "# AWS Glue Studio Notebook\n##### You are now running a AWS Glue Studio notebook; To start using your notebook you need to start an AWS Glue Interactive Session.\n",
			"metadata": {
				"editable": true,
				"trusted": true
			}
		},
		{
			"cell_type": "markdown",
			"source": "#### Optional: Run this cell to see available notebook commands (\"magics\").\n",
			"metadata": {
				"editable": true,
				"trusted": true
			}
		},
		{
			"cell_type": "code",
			"source": "%help",
			"metadata": {
				"trusted": true,
				"editable": true
			},
			"execution_count": null,
			"outputs": []
		},
		{
			"cell_type": "markdown",
			"source": "####  Run this cell to set up and start your interactive session.\n",
			"metadata": {
				"editable": true,
				"trusted": true
			}
		},
		{
			"cell_type": "code",
			"source": "%idle_timeout 2880\n%glue_version 4.0\n%worker_type G.1X\n%number_of_workers 5\n\nimport sys\nfrom awsglue.transforms import *\nfrom awsglue.utils import getResolvedOptions\nfrom pyspark.context import SparkContext\nfrom awsglue.context import GlueContext\nfrom awsglue.job import Job\n  \nsc = SparkContext.getOrCreate()\nglueContext = GlueContext(sc)\nspark = glueContext.spark_session\njob = Job(glueContext)",
			"metadata": {
				"trusted": true,
				"editable": true
			},
			"execution_count": 1,
			"outputs": [
				{
					"name": "stdout",
					"text": "Welcome to the Glue Interactive Sessions Kernel\nFor more information on available magic commands, please type %help in any new cell.\n\nPlease view our Getting Started page to access the most up-to-date information on the Interactive Sessions kernel: https://docs.aws.amazon.com/glue/latest/dg/interactive-sessions.html\nInstalled kernel version: 1.0.5 \nCurrent idle_timeout is None minutes.\nidle_timeout has been set to 2880 minutes.\nSetting Glue version to: 4.0\nPrevious worker type: None\nSetting new worker type to: G.1X\nPrevious number of workers: None\nSetting new number of workers to: 5\nTrying to create a Glue session for the kernel.\nSession Type: glueetl\nWorker Type: G.1X\nNumber of Workers: 5\nIdle Timeout: 2880\nSession ID: bd6079aa-abef-4308-a6c1-675c7b1ba5bf\nApplying the following default arguments:\n--glue_kernel_version 1.0.5\n--enable-glue-datacatalog true\nWaiting for session bd6079aa-abef-4308-a6c1-675c7b1ba5bf to get into ready status...\nSession bd6079aa-abef-4308-a6c1-675c7b1ba5bf has been created.\n\n",
					"output_type": "stream"
				}
			]
		},
		{
			"cell_type": "markdown",
			"source": "#### Example: Create a DynamicFrame from a table in the AWS Glue Data Catalog and display its schema\n",
			"metadata": {
				"editable": true,
				"trusted": true
			}
		},
		{
			"cell_type": "code",
			"source": "dyf = glueContext.create_dynamic_frame.from_catalog(database='universidad-proyecto-t1', table_name='ofertas')\ndyf.printSchema()",
			"metadata": {
				"trusted": true,
				"editable": true
			},
			"execution_count": 3,
			"outputs": [
				{
					"name": "stdout",
					"text": "root\n|-- _id: string\n|-- codigo_curso: string\n|-- nombre_curso: string\n|-- creditos: int\n|-- seccion: int\n|-- periodo: string\n|-- total_cupos: int\n|-- nro_inscritos: int\n|-- horarios: array\n|    |-- element: struct\n|    |    |-- salon: string\n|    |    |-- dia: int\n|    |    |-- hora_inicio: int\n|    |    |-- hora_fin: int\n|    |    |-- _id: string\n|-- __v: int\n",
					"output_type": "stream"
				}
			]
		},
		{
			"cell_type": "markdown",
			"source": "#### Example: Convert the DynamicFrame to a Spark DataFrame and display a sample of the data\n",
			"metadata": {
				"editable": true,
				"trusted": true
			}
		},
		{
			"cell_type": "code",
			"source": "df = dyf.toDF()\ndf.show()",
			"metadata": {
				"trusted": true,
				"editable": true
			},
			"execution_count": 5,
			"outputs": [
				{
					"name": "stdout",
					"text": "+--------------------+------------+--------------------+--------+-------+-------+-----------+-------------+--------------------+---+\n|                 _id|codigo_curso|        nombre_curso|creditos|seccion|periodo|total_cupos|nro_inscritos|            horarios|__v|\n+--------------------+------------+--------------------+--------+-------+-------+-----------+-------------+--------------------+---+\n|66fda77d4e43a48ad...|      CS2031|desarrollo basado...|       4|      1| 2024-1|         30|            0|[{AUDITORIO, 2, 1...|  0|\n|66fda7dc4e43a48ad...|      CC1103|      álgebra lineal|       2|      1| 2024-1|         45|            0|[{VIRTUAL, 1, 7, ...|  0|\n|66fda7ed4e43a48ad...|      CC1103|      álgebra lineal|       2|      2| 2024-1|         45|            0|[{VIRTUAL, 1, 7, ...|  0|\n|66fda8ac4e43a48ad...|      HH1102|laboratorio de co...|       3|      1| 2020-1|         45|            0|[{A907, 1, 7, 8, ...|  0|\n+--------------------+------------+--------------------+--------+-------+-------+-----------+-------------+--------------------+---+\n\n/opt/amazon/spark/python/lib/pyspark.zip/pyspark/sql/dataframe.py:127: UserWarning: DataFrame constructor is internal. Do not directly use it.\n",
					"output_type": "stream"
				}
			]
		},
		{
			"cell_type": "markdown",
			"source": "#### Relationalize nested jsons!",
			"metadata": {}
		},
		{
			"cell_type": "code",
			"source": "collection = dyf.relationalize('root',\"s3://proyecto-parcial-out/temp/\")\ncollection.keys()",
			"metadata": {
				"trusted": true,
				"tags": []
			},
			"execution_count": 7,
			"outputs": [
				{
					"name": "stdout",
					"text": "dict_keys(['root', 'root_horarios'])\n",
					"output_type": "stream"
				}
			]
		},
		{
			"cell_type": "code",
			"source": "collection.select(\"root\").toDF().show()\ncollection.select(\"root_horarios\").toDF().show()",
			"metadata": {
				"trusted": true,
				"tags": []
			},
			"execution_count": 8,
			"outputs": [
				{
					"name": "stdout",
					"text": "+--------------------+------------+--------------------+--------+-------+-------+-----------+-------------+--------+---+\n|                 _id|codigo_curso|        nombre_curso|creditos|seccion|periodo|total_cupos|nro_inscritos|horarios|__v|\n+--------------------+------------+--------------------+--------+-------+-------+-----------+-------------+--------+---+\n|66fda77d4e43a48ad...|      CS2031|desarrollo basado...|       4|      1| 2024-1|         30|            0|       1|  0|\n|66fda7dc4e43a48ad...|      CC1103|      álgebra lineal|       2|      1| 2024-1|         45|            0|       2|  0|\n|66fda7ed4e43a48ad...|      CC1103|      álgebra lineal|       2|      2| 2024-1|         45|            0|       3|  0|\n|66fda8ac4e43a48ad...|      HH1102|laboratorio de co...|       3|      1| 2020-1|         45|            0|       4|  0|\n+--------------------+------------+--------------------+--------+-------+-------+-----------+-------------+--------+---+\n\n+---+-----+------------------+----------------+------------------------+---------------------+--------------------+\n| id|index|horarios.val.salon|horarios.val.dia|horarios.val.hora_inicio|horarios.val.hora_fin|    horarios.val._id|\n+---+-----+------------------+----------------+------------------------+---------------------+--------------------+\n|  1|    0|         AUDITORIO|               2|                      14|                   16|66fda77d4e43a48ad...|\n|  1|    1|              M301|               2|                       7|                    9|66fda77d4e43a48ad...|\n|  1|    2|              M603|               5|                       7|                    9|66fda77d4e43a48ad...|\n|  2|    0|           VIRTUAL|               1|                       7|                    8|66fda7dc4e43a48ad...|\n|  2|    1|              M301|               2|                       7|                    9|66fda7dc4e43a48ad...|\n|  3|    0|           VIRTUAL|               1|                       7|                    8|66fda7ed4e43a48ad...|\n|  3|    1|              M801|               3|                       9|                   11|66fda7ed4e43a48ad...|\n|  4|    0|              A907|               1|                       7|                    8|66fda8ac4e43a48ad...|\n|  4|    1|              A704|               2|                       9|                   11|66fda8ac4e43a48ad...|\n|  4|    2|              A704|               6|                       9|                   11|66fda8ac4e43a48ad...|\n+---+-----+------------------+----------------+------------------------+---------------------+--------------------+\n",
					"output_type": "stream"
				}
			]
		},
		{
			"cell_type": "markdown",
			"source": "#### Change those horarios column names...",
			"metadata": {}
		},
		{
			"cell_type": "code",
			"source": "dyf_root = collection.select(\"root\")\ndyf_root_horarios = collection.select(\"root_horarios\")\ndyf_root_horarios.printSchema()",
			"metadata": {
				"trusted": true,
				"tags": []
			},
			"execution_count": 10,
			"outputs": [
				{
					"name": "stdout",
					"text": "root\n|-- id: long\n|-- index: int\n|-- horarios.val.salon: string\n|-- horarios.val.dia: int\n|-- horarios.val.hora_inicio: int\n|-- horarios.val.hora_fin: int\n|-- horarios.val._id: string\n",
					"output_type": "stream"
				}
			]
		},
		{
			"cell_type": "code",
			"source": "dyf_root_horarios.toDF().show()",
			"metadata": {
				"trusted": true,
				"tags": []
			},
			"execution_count": 17,
			"outputs": [
				{
					"name": "stdout",
					"text": "+---+-----+------------------+----------------+------------------------+---------------------+--------------------+\n| id|index|horarios.val.salon|horarios.val.dia|horarios.val.hora_inicio|horarios.val.hora_fin|    horarios.val._id|\n+---+-----+------------------+----------------+------------------------+---------------------+--------------------+\n|  1|    0|         AUDITORIO|               2|                      14|                   16|66fda77d4e43a48ad...|\n|  1|    1|              M301|               2|                       7|                    9|66fda77d4e43a48ad...|\n|  1|    2|              M603|               5|                       7|                    9|66fda77d4e43a48ad...|\n|  2|    0|           VIRTUAL|               1|                       7|                    8|66fda7dc4e43a48ad...|\n|  2|    1|              M301|               2|                       7|                    9|66fda7dc4e43a48ad...|\n|  3|    0|           VIRTUAL|               1|                       7|                    8|66fda7ed4e43a48ad...|\n|  3|    1|              M801|               3|                       9|                   11|66fda7ed4e43a48ad...|\n|  4|    0|              A907|               1|                       7|                    8|66fda8ac4e43a48ad...|\n|  4|    1|              A704|               2|                       9|                   11|66fda8ac4e43a48ad...|\n|  4|    2|              A704|               6|                       9|                   11|66fda8ac4e43a48ad...|\n+---+-----+------------------+----------------+------------------------+---------------------+--------------------+\n",
					"output_type": "stream"
				}
			]
		},
		{
			"cell_type": "markdown",
			"source": "transformed_dyf_root_horarios = dyf_root_horarios.apply_mapping([\n    (\"id\", \"long\", \"id\", \"long\"),\n    (\"index\", \"int\", \"index\", \"int\"),\n    (\"salon\", \"string\", \"salon\", \"string\"),\n    (\"val.dia\", \"int\", \"dia\", \"int\"),\n    (\"horarios.val.hora_inicio\", \"int\", \"hora_inicio\", \"int\"),\n    (\"horarios.val.hora_fin\", \"int\", \"hora_fin\", \"int\"),\n    (\"horarios.val._id\", \"string\", \"_id\", \"string\")\n])\ntransformed_dyf_root_horarios.toDF().show()",
			"metadata": {
				"tags": []
			}
		},
		{
			"cell_type": "markdown",
			"source": "#### Join dataframes",
			"metadata": {}
		},
		{
			"cell_type": "code",
			"source": "dyf_ofertas = dyf_root.join(paths1 = [\"horarios\"], paths2 = [\"id\"], frame2 = dyf_root_horarios)",
			"metadata": {
				"trusted": true,
				"tags": []
			},
			"execution_count": 25,
			"outputs": [
				{
					"name": "stdout",
					"text": "+-------------+------------------------+--------+-------+----------------+---+---------------------+-------+------------------+-----+--------+------------+-----------+--------------------+--------------------+--------------------+---+\n|nro_inscritos|horarios.val.hora_inicio|horarios|seccion|horarios.val.dia|__v|horarios.val.hora_fin|periodo|horarios.val.salon|index|creditos|codigo_curso|total_cupos|                 _id|    horarios.val._id|        nombre_curso| id|\n+-------------+------------------------+--------+-------+----------------+---+---------------------+-------+------------------+-----+--------+------------+-----------+--------------------+--------------------+--------------------+---+\n|            0|                      14|       1|      1|               2|  0|                   16| 2024-1|         AUDITORIO|    0|       4|      CS2031|         30|66fda77d4e43a48ad...|66fda77d4e43a48ad...|desarrollo basado...|  1|\n|            0|                       7|       1|      1|               2|  0|                    9| 2024-1|              M301|    1|       4|      CS2031|         30|66fda77d4e43a48ad...|66fda77d4e43a48ad...|desarrollo basado...|  1|\n|            0|                       7|       1|      1|               5|  0|                    9| 2024-1|              M603|    2|       4|      CS2031|         30|66fda77d4e43a48ad...|66fda77d4e43a48ad...|desarrollo basado...|  1|\n|            0|                       7|       2|      1|               1|  0|                    8| 2024-1|           VIRTUAL|    0|       2|      CC1103|         45|66fda7dc4e43a48ad...|66fda7dc4e43a48ad...|      álgebra lineal|  2|\n|            0|                       7|       2|      1|               2|  0|                    9| 2024-1|              M301|    1|       2|      CC1103|         45|66fda7dc4e43a48ad...|66fda7dc4e43a48ad...|      álgebra lineal|  2|\n|            0|                       7|       3|      2|               1|  0|                    8| 2024-1|           VIRTUAL|    0|       2|      CC1103|         45|66fda7ed4e43a48ad...|66fda7ed4e43a48ad...|      álgebra lineal|  3|\n|            0|                       9|       3|      2|               3|  0|                   11| 2024-1|              M801|    1|       2|      CC1103|         45|66fda7ed4e43a48ad...|66fda7ed4e43a48ad...|      álgebra lineal|  3|\n|            0|                       7|       4|      1|               1|  0|                    8| 2020-1|              A907|    0|       3|      HH1102|         45|66fda8ac4e43a48ad...|66fda8ac4e43a48ad...|laboratorio de co...|  4|\n|            0|                       9|       4|      1|               2|  0|                   11| 2020-1|              A704|    1|       3|      HH1102|         45|66fda8ac4e43a48ad...|66fda8ac4e43a48ad...|laboratorio de co...|  4|\n|            0|                       9|       4|      1|               6|  0|                   11| 2020-1|              A704|    2|       3|      HH1102|         45|66fda8ac4e43a48ad...|66fda8ac4e43a48ad...|laboratorio de co...|  4|\n+-------------+------------------------+--------+-------+----------------+---+---------------------+-------+------------------+-----+--------+------------+-----------+--------------------+--------------------+--------------------+---+\n",
					"output_type": "stream"
				}
			]
		},
		{
			"cell_type": "code",
			"source": "dyf_ofertas.toDF().show()",
			"metadata": {
				"trusted": true,
				"tags": []
			},
			"execution_count": 28,
			"outputs": [
				{
					"name": "stdout",
					"text": "+-------------+------------------------+--------+-------+----------------+---+---------------------+-------+------------------+-----+--------+------------+-----------+--------------------+--------------------+--------------------+---+\n|nro_inscritos|horarios.val.hora_inicio|horarios|seccion|horarios.val.dia|__v|horarios.val.hora_fin|periodo|horarios.val.salon|index|creditos|codigo_curso|total_cupos|                 _id|    horarios.val._id|        nombre_curso| id|\n+-------------+------------------------+--------+-------+----------------+---+---------------------+-------+------------------+-----+--------+------------+-----------+--------------------+--------------------+--------------------+---+\n|            0|                      14|       1|      1|               2|  0|                   16| 2024-1|         AUDITORIO|    0|       4|      CS2031|         30|66fda77d4e43a48ad...|66fda77d4e43a48ad...|desarrollo basado...|  1|\n|            0|                       7|       1|      1|               2|  0|                    9| 2024-1|              M301|    1|       4|      CS2031|         30|66fda77d4e43a48ad...|66fda77d4e43a48ad...|desarrollo basado...|  1|\n|            0|                       7|       1|      1|               5|  0|                    9| 2024-1|              M603|    2|       4|      CS2031|         30|66fda77d4e43a48ad...|66fda77d4e43a48ad...|desarrollo basado...|  1|\n|            0|                       7|       2|      1|               1|  0|                    8| 2024-1|           VIRTUAL|    0|       2|      CC1103|         45|66fda7dc4e43a48ad...|66fda7dc4e43a48ad...|      álgebra lineal|  2|\n|            0|                       7|       2|      1|               2|  0|                    9| 2024-1|              M301|    1|       2|      CC1103|         45|66fda7dc4e43a48ad...|66fda7dc4e43a48ad...|      álgebra lineal|  2|\n|            0|                       7|       3|      2|               1|  0|                    8| 2024-1|           VIRTUAL|    0|       2|      CC1103|         45|66fda7ed4e43a48ad...|66fda7ed4e43a48ad...|      álgebra lineal|  3|\n|            0|                       9|       3|      2|               3|  0|                   11| 2024-1|              M801|    1|       2|      CC1103|         45|66fda7ed4e43a48ad...|66fda7ed4e43a48ad...|      álgebra lineal|  3|\n|            0|                       7|       4|      1|               1|  0|                    8| 2020-1|              A907|    0|       3|      HH1102|         45|66fda8ac4e43a48ad...|66fda8ac4e43a48ad...|laboratorio de co...|  4|\n|            0|                       9|       4|      1|               2|  0|                   11| 2020-1|              A704|    1|       3|      HH1102|         45|66fda8ac4e43a48ad...|66fda8ac4e43a48ad...|laboratorio de co...|  4|\n|            0|                       9|       4|      1|               6|  0|                   11| 2020-1|              A704|    2|       3|      HH1102|         45|66fda8ac4e43a48ad...|66fda8ac4e43a48ad...|laboratorio de co...|  4|\n+-------------+------------------------+--------+-------+----------------+---+---------------------+-------+------------------+-----+--------+------------+-----------+--------------------+--------------------+--------------------+---+\n",
					"output_type": "stream"
				}
			]
		},
		{
			"cell_type": "markdown",
			"source": "#### Example: Write the data in the DynamicFrame to a location in Amazon S3 and a table for it in the AWS Glue Data Catalog\n",
			"metadata": {
				"editable": true,
				"trusted": true
			}
		},
		{
			"cell_type": "code",
			"source": "df_ofertas = dyf_ofertas.toDF()\ndf_ofertas = df_ofertas.coalesce(1)  # This will create a single output file\n\ndf_ofertas.write \\\n    .mode('overwrite') \\\n    .option(\"header\", \"true\") \\\n    .option(\"quote\", \"\\\"\") \\\n    .option(\"escape\", \"\\\"\") \\\n    .option(\"quoteAll\", \"true\") \\\n    .option(\"delimiter\", \",\") \\\n    .csv(\"s3://proyecto-parcial-out/ofertas-etl-out/\")",
			"metadata": {
				"trusted": true,
				"tags": []
			},
			"execution_count": 32,
			"outputs": [
				{
					"name": "stdout",
					"text": "\n",
					"output_type": "stream"
				}
			]
		},
		{
			"cell_type": "code",
			"source": "glueContext.write_dynamic_frame.from_options(\n    frame=dyf_ofertas,\n    connection_type=\"s3\",\n    connection_options={\n        \"path\": \"s3://proyecto-parcial-out/ofertas-etl-out/\",\n        \"partitionKeys\": []\n    },\n    format=\"csv\",\n    format_options={\n        \"separator\": \",\",\n        \"quoteChar\": \"\\\"\",\n        \"escaper\": \"\\\"\",\n        \"writeHeader\": True\n    }\n)",
			"metadata": {
				"trusted": true,
				"tags": []
			},
			"execution_count": 34,
			"outputs": [
				{
					"name": "stdout",
					"text": "<awsglue.dynamicframe.DynamicFrame object at 0x7fa8172adf30>\n",
					"output_type": "stream"
				}
			]
		},
		{
			"cell_type": "markdown",
			"source": "glueContext.write_dynamic_frame.from_options(\n    frame=dyf_ofertas,\n    connection_type=\"s3\",\n    connection_options={\"path\": \"s3://proyecto-parcial-out/ofertas-etl-out/\"},\n    format=\"csv\",\n    format_options ={\n        \"quoteChar\":-1,\n    },\n)",
			"metadata": {
				"tags": []
			}
		},
		{
			"cell_type": "markdown",
			"source": "glueContext.write_dynamic_frame.from_catalog(\n    frame=transformed_dyf_root_horarios,\n    database=\"universidad-proyecto-t1\",\n    table_name=\"ofertas-transformed\",\n    connection_type=\"s3\",\n    connection_options={\"path\": \"s3://proyecto-parcial-out/ofertas-etl-out/\"},\n    format=\"csv\"\n)",
			"metadata": {}
		},
		{
			"cell_type": "markdown",
			"source": "s3output = glueContext.getSink(\n  path=\"s3://bucket_name/folder_name\",\n  connection_type=\"s3\",\n  updateBehavior=\"UPDATE_IN_DATABASE\",\n  partitionKeys=[],\n  compression=\"snappy\",\n  enableUpdateCatalog=True,\n  transformation_ctx=\"s3output\",\n)\ns3output.setCatalogInfo(\n  catalogDatabase=\"demo\", catalogTableName=\"populations\"\n)\ns3output.setFormat(\"glueparquet\")\ns3output.writeFrame(DyF)",
			"metadata": {
				"editable": true
			}
		}
	]
}